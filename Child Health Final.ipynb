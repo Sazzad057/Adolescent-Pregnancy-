{
 "cells": [
  {
   "cell_type": "markdown",
   "id": "3c12933b-fcad-4641-b034-8b2c257b1c68",
   "metadata": {},
   "source": [
    "# Child Health Status"
   ]
  },
  {
   "cell_type": "code",
   "execution_count": 14,
   "id": "3978c86f-5d2a-467e-a3dc-c6a1716bb3e3",
   "metadata": {},
   "outputs": [
    {
     "name": "stderr",
     "output_type": "stream",
     "text": [
      "C:\\Users\\user\\AppData\\Local\\Temp\\ipykernel_4152\\158874979.py:7: DtypeWarning: Columns (138,431,435,436,437,438,439,445,1286,1287,1288,1289,1290,1291,1292,1293,1294,1295,1296,1308,1309,1310,1311,1312,1313,1314,1315,1316,1317,1318,1319,1320,1321,1322) have mixed types. Specify dtype option on import or set low_memory=False.\n",
      "  df = pd.read_csv('E:/Abortion Paper/NPKR82FL.csv')\n"
     ]
    },
    {
     "name": "stdout",
     "output_type": "stream",
     "text": [
      "Percentage of live births in the 2 years preceding the survey with birth weight less than 2.5 kg and mother age at birth is in between 15 and 19\n",
      "14.09 \n",
      "\n",
      "Percentage of live births in the 2 years preceding the survey with birth weight less than 2.5 kg and mother age at birth is in between 20 and 34\n",
      "11.41 \n",
      "\n",
      "Percentage of live births in the 2 years preceding the survey with birth weight less than 2.5 kg and mother age at birth is in between 35 and 49\n",
      "7.84\n"
     ]
    }
   ],
   "source": [
    "# Percentage of live births in the 2 years preceding the survey who were weighed at birth and were reported as weighing less than 2.5 kg\n",
    "\n",
    "import pandas as pd\n",
    "pd.set_option('display.max_rows',None)\n",
    "\n",
    "# loading dataset\n",
    "df = pd.read_csv('E:/Abortion Paper/NPKR82FL.csv')\n",
    "\n",
    "# adding mother age\n",
    "mother_age = (df['B3'] - df['V011'])/12\n",
    "df['mother_age'] = mother_age.round()\n",
    "\n",
    "# adding weights\n",
    "df['weights'] = df['V005']/1000000\n",
    "\n",
    "# create a modified dataset\n",
    "#new_df = df.loc[:,['V005','V011','B3','M18','M19','M19A','M80','mother_age','weights']]\n",
    "new_df = df[(df['M80'].isin(['1','2'])) & (df['M19A'].isin(['1','2']))].loc[:,['V005','V011','B3','M18','M19','M19A','M80','mother_age','weights']]\n",
    "\n",
    "# recode mother age at birth\n",
    "# 15 - 19 = 1, 20 - 34 = 2 and 35 - 49 = 3\n",
    "new_df.loc[new_df['mother_age'] < 20, 'Age group'] = 1\n",
    "new_df.loc[(new_df['mother_age'] >= 20) & ((new_df['mother_age'] < 35)), 'Age group'] = 2\n",
    "new_df.loc[(new_df['mother_age'] >= 35) & ((new_df['mother_age'] < 50)), 'Age group'] = 3\n",
    "\n",
    "# recode birth weight\n",
    "# birth weight < 2500g = 0 and birth weight >= 2500g = 1\n",
    "new_df.loc[new_df['M19'] < '2500', 'birth_weight'] = 0\n",
    "new_df.loc[new_df['M19'] >= '2500', 'birth_weight'] = 1\n",
    "\n",
    "new_df['Age group'] = new_df['Age group'].astype(int)\n",
    "new_df['birth_weight'] = new_df['birth_weight'].astype(int)\n",
    "\n",
    "# unweighted cross tabulation\n",
    "unweighted_crosstab = pd.crosstab(index = new_df['Age group'], columns = new_df['birth_weight'], margins=True, margins_name='Total')\n",
    "\n",
    "# weighted cross tabulation\n",
    "weighted_crosstab = pd.crosstab(index = new_df['Age group'], columns = new_df['birth_weight'], values = new_df['weights'], aggfunc='sum', margins=True, margins_name='Total')\n",
    "weighted_crosstab.fillna(0,inplace = True)\n",
    "weighted_crosstab.round()\n",
    "\n",
    "# percentage of low birth weight in women aged 15 to 19\n",
    "case1 = weighted_crosstab.iloc[0,0].round()\n",
    "total1 = weighted_crosstab.iloc[0,2].round()\n",
    "\n",
    "result1 = (case1/total1) * 100\n",
    "result1 = result1.round(2)\n",
    "\n",
    "# percentage of low birth weight in women aged 20 to 24\n",
    "case2 = weighted_crosstab.iloc[1,0].round()\n",
    "total2 = weighted_crosstab.iloc[1,2].round()\n",
    "\n",
    "result2 = (case2/total2) * 100\n",
    "result2 = result2.round(2)\n",
    "\n",
    "# percentage of low birth weight in women aged 35 to 49\n",
    "case3 = weighted_crosstab.iloc[2,0].round()\n",
    "total3 = weighted_crosstab.iloc[2,2].round()\n",
    "\n",
    "result3 = (case3/total3) * 100\n",
    "result3 = result3.round(2)\n",
    "\n",
    "print('Percentage of live births in the 2 years preceding the survey with birth weight less than 2.5 kg and mother age at birth is in between 15 and 19')\n",
    "print(result1,'\\n')\n",
    "print('Percentage of live births in the 2 years preceding the survey with birth weight less than 2.5 kg and mother age at birth is in between 20 and 34')\n",
    "print(result2,'\\n')\n",
    "print('Percentage of live births in the 2 years preceding the survey with birth weight less than 2.5 kg and mother age at birth is in between 35 and 49')\n",
    "print(result3)"
   ]
  },
  {
   "cell_type": "code",
   "execution_count": null,
   "id": "403b40a8-7925-434c-8de1-9dd4579af27e",
   "metadata": {},
   "outputs": [],
   "source": []
  }
 ],
 "metadata": {
  "kernelspec": {
   "display_name": "Python 3 (ipykernel)",
   "language": "python",
   "name": "python3"
  },
  "language_info": {
   "codemirror_mode": {
    "name": "ipython",
    "version": 3
   },
   "file_extension": ".py",
   "mimetype": "text/x-python",
   "name": "python",
   "nbconvert_exporter": "python",
   "pygments_lexer": "ipython3",
   "version": "3.12.1"
  }
 },
 "nbformat": 4,
 "nbformat_minor": 5
}
